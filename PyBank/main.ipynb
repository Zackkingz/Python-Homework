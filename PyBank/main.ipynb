{
 "cells": [
  {
   "cell_type": "code",
   "execution_count": 56,
   "metadata": {},
   "outputs": [],
   "source": [
    "# Import the pathlib and csv library\n",
    "\n",
    "### NEED TO ADD COMMENTS\n",
    "from pathlib import Path\n",
    "import csv"
   ]
  },
  {
   "cell_type": "code",
   "execution_count": 57,
   "metadata": {},
   "outputs": [],
   "source": [
    "# Set the file path\n",
    "csvpath = Path (\"budget_data.csv\")"
   ]
  },
  {
   "cell_type": "code",
   "execution_count": 58,
   "metadata": {},
   "outputs": [],
   "source": [
    "total_months = 0\n",
    "total_net = 0\n",
    "average_change = []\n",
    "greatest_increase = [\"\", 0]\n",
    "greatest_decrease = [\"\", 0]\n",
    "line_num = 0\n",
    "last_month = 0\n",
    "count_total_net = 0\n",
    "current_month = [0]"
   ]
  },
  {
   "cell_type": "code",
   "execution_count": 59,
   "metadata": {},
   "outputs": [
    {
     "name": "stdout",
     "output_type": "stream",
     "text": [
      "['Date', 'Profit/Losses']\n",
      "2 1852539\n",
      "3 2174552\n",
      "4 2105135\n",
      "5 2415638\n",
      "6 2938495\n",
      "7 3971591\n",
      "8 4576476\n",
      "9 4360090\n",
      "10 4837622\n",
      "11 5731432\n",
      "12 5651079\n",
      "13 6430885\n",
      "14 6095682\n",
      "15 6793527\n",
      "16 7586690\n",
      "17 8071760\n",
      "18 8655882\n",
      "19 8718611\n",
      "20 9386790\n",
      "21 10286696\n",
      "22 11121415\n",
      "23 11253418\n",
      "24 11563396\n",
      "25 10807830\n",
      "26 11978423\n",
      "27 12231211\n",
      "28 13382729\n",
      "29 14199985\n",
      "30 14770742\n",
      "31 15277444\n",
      "32 14254910\n",
      "33 14729972\n",
      "34 15509948\n",
      "35 15654123\n",
      "36 16196617\n",
      "37 16555950\n",
      "38 16877419\n",
      "39 16945199\n",
      "40 17416634\n",
      "41 17982237\n",
      "42 18854717\n",
      "43 19644197\n",
      "44 20644139\n",
      "45 19447914\n",
      "46 19716911\n",
      "47 19028925\n",
      "48 20179386\n",
      "49 20861844\n",
      "50 21479700\n",
      "51 22303798\n",
      "52 22885741\n",
      "53 23018605\n",
      "54 23466667\n",
      "55 24155828\n",
      "56 24956529\n",
      "57 26123172\n",
      "58 27070505\n",
      "59 27649173\n",
      "60 28637678\n",
      "61 29777393\n",
      "62 30806864\n",
      "63 31494397\n",
      "64 30969771\n",
      "65 31128391\n",
      "66 31216186\n",
      "67 31639575\n",
      "68 32480298\n",
      "69 33048827\n",
      "70 33380894\n",
      "71 34370393\n",
      "72 35148630\n",
      "73 35798630\n",
      "74 34698243\n",
      "75 34523297\n",
      "76 35280440\n",
      "77 35726149\n",
      "78 36439110\n",
      "79 35275313\n",
      "80 35845212\n",
      "81 36613662\n",
      "82 36716347\n",
      "83 37512261\n",
      "84 37573249\n",
      "85 37711479\n",
      "86 38382578\n"
     ]
    }
   ],
   "source": [
    "# Open the input path as a file object\n",
    "with open (csvpath, 'r') as csvfile:\n",
    "    csvreader = csv.reader(csvfile)\n",
    "    csv_header = next(csvreader)\n",
    "    print(csv_header)\n",
    "    first_row = next(csvreader)\n",
    "    total_months = total_months + 1\n",
    "    total_net = total_net + int(first_row[1])\n",
    "    last_month = int(first_row[1])\n",
    "    \n",
    "    #Read each row of data after the header\n",
    "    for row in csvreader:\n",
    "        total_months += 1\n",
    "        total_net += int(row[1])\n",
    "        change = int(row[1]) - last_month\n",
    "        last_month = int(row[1])\n",
    "        print(total_months, total_net)\n",
    "        \n",
    "        average_change.append(change)\n",
    "        \n",
    "        if change > greatest_increase[1]:\n",
    "            greatest_increase[0] = row[0]\n",
    "            greatest_increase[1] = change\n",
    "            \n",
    "        if change < greatest_decrease[1]:\n",
    "            greatest_decrease[0] = row[0]\n",
    "            greatest_decrease[1] = change   \n",
    "                \n",
    "def average_of_changes(change_list):\n",
    "    avg_of_changes = sum(change_list) / len(change_list)\n",
    "    return round(avg_of_changes,2)\n",
    "average_change = average_of_changes(average_change)"
   ]
  },
  {
   "cell_type": "code",
   "execution_count": 60,
   "metadata": {},
   "outputs": [
    {
     "name": "stdout",
     "output_type": "stream",
     "text": [
      "-------------Summary Statistics---------------\n",
      "Total Months: 86\n",
      "Total Revenue: 38382578\n",
      "Average Change: -2315.12\n",
      "Greatest Increase: ['Feb-2012', 1926159]\n",
      "Greatest Decrease: ['Sep-2013', -2196167]\n"
     ]
    }
   ],
   "source": [
    "print(f\"-------------Summary Statistics---------------\")\n",
    "print(f\"Total Months: {total_months}\")\n",
    "print(f\"Total Revenue: {total_net}\")\n",
    "print(f\"Average Change: {average_change}\")\n",
    "print(f\"Greatest Increase: {greatest_increase}\")\n",
    "print(f\"Greatest Decrease: {greatest_decrease}\")"
   ]
  },
  {
   "cell_type": "code",
   "execution_count": 61,
   "metadata": {},
   "outputs": [],
   "source": [
    "outpath_file = Path(\"output.txt\")\n",
    "\n",
    "with open(outpath_file, 'w') as csvfile:\n",
    "    csvfile.write(f\"--------Summary Statistics------------\\n\")\n",
    "    csvfile.write(f\"Total Months: {total_months}\\n\")\n",
    "    csvfile.write(f\"Total Net: {total_net}\\n\")\n",
    "    csvfile.write(f\"Average Change: {average_change}\\n\")\n",
    "    csvfile.write(f\"Greatest Increase: {greatest_increase}\\n\")\n",
    "    csvfile.write(f\"Greatest Decrease: {greatest_decrease}\\n\")"
   ]
  },
  {
   "cell_type": "code",
   "execution_count": null,
   "metadata": {},
   "outputs": [],
   "source": []
  },
  {
   "cell_type": "code",
   "execution_count": null,
   "metadata": {},
   "outputs": [],
   "source": []
  }
 ],
 "metadata": {
  "interpreter": {
   "hash": "aee8b7b246df8f9039afb4144a1f6fd8d2ca17a180786b69acc140d282b71a49"
  },
  "kernelspec": {
   "display_name": "Python 3.10.2 64-bit",
   "language": "python",
   "name": "python3"
  },
  "language_info": {
   "codemirror_mode": {
    "name": "ipython",
    "version": 3
   },
   "file_extension": ".py",
   "mimetype": "text/x-python",
   "name": "python",
   "nbconvert_exporter": "python",
   "pygments_lexer": "ipython3",
   "version": "3.10.2"
  },
  "orig_nbformat": 4
 },
 "nbformat": 4,
 "nbformat_minor": 2
}
